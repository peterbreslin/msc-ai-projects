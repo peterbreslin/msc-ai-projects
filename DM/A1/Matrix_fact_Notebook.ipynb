{
 "cells": [
  {
   "cell_type": "markdown",
   "id": "74c759ea",
   "metadata": {},
   "source": [
    "# Task 1.3: Matrix Factorization\n",
    "\n",
    "Notebook for Matrix Factorization recommender system \n",
    "<br> We are running the 5-fold cross validation in parallel, hence the functions for the matrix factorization algorithm are included in a seperated file matrix_fact.py."
   ]
  },
  {
   "cell_type": "code",
   "execution_count": 1,
   "id": "fdac1692",
   "metadata": {},
   "outputs": [],
   "source": [
    "import pandas as pd\n",
    "import numpy as np\n",
    "from matplotlib import pyplot as plt\n",
    "from itertools import cycle\n",
    "from multiprocessing import Pool\n",
    "import defs_upd, matrix_fact"
   ]
  },
  {
   "cell_type": "code",
   "execution_count": 2,
   "id": "8c9dc669",
   "metadata": {},
   "outputs": [
    {
     "name": "stderr",
     "output_type": "stream",
     "text": [
      "/var/folders/zq/kxyb9__d7q11lb0tprf805cr0000gn/T/ipykernel_2055/2921473051.py:2: ParserWarning: Falling back to the 'python' engine because the 'c' engine does not support regex separators (separators > 1 char and different from '\\s+' are interpreted as regex); you can avoid this warning by specifying engine='python'.\n",
      "  df = pd.read_csv('ml-1m/ratings.dat', sep = '::', names = ['UserID', 'MovieID', 'Rating', 'Timestamp'])\n"
     ]
    }
   ],
   "source": [
    "#read the rating data \n",
    "df = pd.read_csv('ml-1m/ratings.dat', sep = '::', names = ['UserID', 'MovieID', 'Rating', 'Timestamp'])"
   ]
  },
  {
   "cell_type": "markdown",
   "id": "ae005f1a",
   "metadata": {},
   "source": [
    "There are movies in the data for which there are no ratings at all. These are of no interest for our recommender system, so we don't want to have columns of these in our utility matrix. The next cell finds those movies are stores their ID in the 'del_col' array. Note that we don't have to do this for users, for each user we have at least one rating."
   ]
  },
  {
   "cell_type": "code",
   "execution_count": 3,
   "id": "2aaa8b69",
   "metadata": {},
   "outputs": [],
   "source": [
    "#we are looking for movies which are completely missing in the data\n",
    "\n",
    "y = np.amax(df['MovieID'])   #highest movie ID in the data\n",
    "movie_Id = np.unique(df['MovieID'])   #all the movie ID's in the data\n",
    "miss_movieId = []           #list which will store which movie ID's are missing in the data \n",
    "for i in range(1, y + 1):   #loop through all possible ID's\n",
    "    if len(movie_Id[movie_Id == i]) == 0:   #if ID i is not present in the data, we want a record of this\n",
    "        miss_movieId.append(i)\n",
    "\n",
    "del_col = np.array(miss_movieId) - 1 #these are the columns to be deleted straightaway in the utility matrix, -1 is needed because indexing begins at 0"
   ]
  },
  {
   "cell_type": "markdown",
   "id": "55927c18",
   "metadata": {},
   "source": [
    "The following cell creates 5 sets of rating indexes from the original dataframe df (=ratings.dat). The sets are randomy picked and are of the same size (with exception of the last set which is slightly smaller) and we make sure that there is no overlap between the sets. The sets are later used to generate the 5 training and associated training sets for the 5-fold cross validation. We will store the sets in a dictionary called 'sets'. For example, for the first fold we will use set1, set2, set3 and set4 to create the training data and set5 is used for the test data. Using our method here, we ensure that each training/test set of the 5 folds will have the same number of known ratings (i.e non-zero elements in the utility matrix)."
   ]
  },
  {
   "cell_type": "code",
   "execution_count": 4,
   "id": "884cbf90",
   "metadata": {},
   "outputs": [],
   "source": [
    "#generate the 5 sets for the 5-fold cross validation\n",
    "\n",
    "np.random.seed(10)   #our seed for splitting the rating data into 5 oarts\n",
    "sets = {'set1':[], 'set2':[], 'set3':[], 'set4':[], 'set5':[]}   #dictionary which will store the sets\n",
    "\n",
    "l = len(df) // 5   #length of a set or number of known ratings in a set \n",
    "index_list = np.arange(0, len(df), 1)   #all indexes of known ratings that exist\n",
    "\n",
    "for j in range(1, 6):  #loop for creating the 5 sets\n",
    "    if j != 5:\n",
    "        i = np.random.choice(len(index_list), l, replace = False)\n",
    "    else:\n",
    "        i = np.random.choice(len(index_list), len(df) - 4*l, replace = False)   #only the fifth set is of different length so that we use up everything\n",
    "    sets['set{}'.format(j)] = index_list[i]\n",
    "    index_list = np.delete(index_list, i)"
   ]
  },
  {
   "cell_type": "markdown",
   "id": "9e8de6db",
   "metadata": {},
   "source": [
    "We initialize the U and M matrix using the method Tak ́acs et al. (2007). The elements are randomly drawn from a uniform distribution in the interval $[-0.1, 0.1]$. The parameter $d$ represents the latent dimension of the two matrices"
   ]
  },
  {
   "cell_type": "code",
   "execution_count": 7,
   "id": "d9d42e5d",
   "metadata": {},
   "outputs": [
    {
     "name": "stdout",
     "output_type": "stream",
     "text": [
      "Enter the latent dimension: a positive integer -> 10\n"
     ]
    }
   ],
   "source": [
    "d = int(input(\"Enter the latent dimension: a positive integer -> \"))\n",
    "np.random.seed(10)\n",
    "U = np.random.uniform(-0.1, 0.1, size = (6040, d))\n",
    "M = np.random.uniform(-0.1, 0.1, size = (d, 3706))"
   ]
  },
  {
   "cell_type": "markdown",
   "id": "f2788cbe",
   "metadata": {},
   "source": [
    "We prepare a list of arguments which are needed to develop the recommender system and train it. The list ARG will include the lists of parameters needed for developing a recomender system based on each of the 5-folds. A list in ARG is composed of: \n",
    "- set_train: a list which describes which sets are used for the training data. This will always consists of 4 sets.\n",
    "- set_test: a list which describes which set is used for the testing data. This will be the set which is not included in set_train.\n",
    "- path: the path where we want to save all of our data\n",
    "- U: the U matrix\n",
    "- M: the M matrix\n",
    "- name_end: ending of the filenames that we save at the end\n",
    "- df: the original datafram of all the ratings (we will still need that to create our utility matrices)\n",
    "- del_col: the list which has a record of movies which have no rating in the data, we want to delete these columns later in the utility matrices\n",
    "- sets: dictionary of the sets, defined in the previous cell"
   ]
  },
  {
   "cell_type": "code",
   "execution_count": 23,
   "id": "2d6f3dcf",
   "metadata": {},
   "outputs": [],
   "source": [
    "set_train = [[2, 3, 4, 5], [3, 4, 5, 1], [4, 5, 1, 2], [5, 1, 2, 3], [1, 2, 3, 4]]\n",
    "set_test = [1, 2, 3, 4, 5]\n",
    "path = '/Users/louissiebenaler/Dropbox/Private_7aler/Louis/University Material/Leiden University/Advances in Data Mining/Assignment/matrix_multiplication/results/d_5/long/'\n",
    "name_end = [1, 2, 3, 4, 5]\n",
    "\n",
    "\n",
    "ARG = []\n",
    "for i in range(5):\n",
    "    arg = (set_train[i], set_test[i], path, U, M, name_end[i], df, del_col, sets)\n",
    "    ARG.append(arg)"
   ]
  },
  {
   "cell_type": "markdown",
   "id": "7e42419a",
   "metadata": {},
   "source": [
    "We now perform the 5-cross validation in parallel"
   ]
  },
  {
   "cell_type": "code",
   "execution_count": 24,
   "id": "8942bf6f",
   "metadata": {},
   "outputs": [
    {
     "name": "stdout",
     "output_type": "stream",
     "text": [
      "[0.7232940105046535, 0.7236407106950777, 0.7234100798662636, 0.7233509524126877, 0.7236067078057484]\n",
      "--- 746.7413098812103 seconds ---\n",
      "--- 755.2728660106659 seconds ---\n",
      "--- 756.3798398971558 seconds ---\n",
      "--- 761.1495969295502 seconds ---\n",
      "--- 762.4361946582794 seconds ---\n"
     ]
    }
   ],
   "source": [
    "#perfomring the 5-cross validation in parallel\n",
    "\n",
    "if __name__ == '__main__':\n",
    "    with Pool(5) as p:\n",
    "        print(p.starmap(matrix_fact.matrix_factorization, [ARG[0], ARG[1], ARG[2], ARG[3], ARG[4]]))\n",
    "    \n"
   ]
  },
  {
   "cell_type": "markdown",
   "id": "b0b689ec",
   "metadata": {},
   "source": [
    "### Plotting figures\n",
    "We plot an example of a learing curve"
   ]
  },
  {
   "cell_type": "code",
   "execution_count": 8,
   "id": "974b1db9",
   "metadata": {},
   "outputs": [],
   "source": [
    "#cell defines our fonts for the figures\n",
    "\n",
    "rfont = {\"font.family\" : \"serif\", \n",
    "      \"mathtext.fontset\" : \"stix\"}\n",
    "plt.rcParams.update(rfont)\n",
    "plt.rcParams[\"legend.labelspacing\"] = 0.001\n",
    "plt.rcParams[\"font.serif\"] = [\"Times New Roman\"] + plt.rcParams[\"font.serif\"]"
   ]
  },
  {
   "cell_type": "code",
   "execution_count": 9,
   "id": "647e44a1",
   "metadata": {},
   "outputs": [],
   "source": [
    "path = '/Users/louissiebenaler/Dropbox/Private_7aler/Louis/University Material/Leiden University/Advances in Data Mining/Assignment/matrix_multiplication/results/new_version/'\n",
    "rmse = np.load(path + '/RMSE_1.npy')\n",
    "rmse_test = np.load(path + '/RMSE_test_1.npy')\n",
    "mas_test = np.load(path + '/MAS_test_1.npy')\n",
    "mas = np.load(path + '/MAS_1.npy')"
   ]
  },
  {
   "cell_type": "code",
   "execution_count": 11,
   "id": "44e36f43",
   "metadata": {},
   "outputs": [
    {
     "data": {
      "image/png": "[encoded data removed]",
      "text/plain": [
       "<Figure size 800x600 with 1 Axes>"
      ]
     },
     "metadata": {},
     "output_type": "display_data"
    }
   ],
   "source": [
    "fig, ax = plt.subplots(1, 1, figsize = (8, 6))\n",
    "ax.plot(np.arange(0, rmse.shape[0], 1), rmse, lw = 0.9, color = 'black', label = 'Training')\n",
    "ax.plot(np.arange(0, rmse_test.shape[0], 1), rmse_test, lw = 0.9, color = 'red', label = 'Test')\n",
    "\n",
    "ax.set_xlabel('Iteration', fontsize = 15)\n",
    "ax.set_ylabel('RMSE', fontsize = 15)\n",
    "ax.legend(frameon = False, fontsize = 15)\n",
    "ax.minorticks_on()\n",
    "ax.tick_params(which = 'both', bottom = True, top = True, left = True, right = True)\n",
    "ax.tick_params(which = 'major', length = 10, direction = 'in', labelsize = 12)\n",
    "ax.tick_params(which = 'minor', length = 5, direction = 'in', labelsize = 12)\n",
    "#plt.savefig('Mat_Fact.pdf', bbox_inches='tight')\n"
   ]
  }
 ],
 "metadata": {
  "kernelspec": {
   "display_name": "Python 3 (ipykernel)",
   "language": "python",
   "name": "python3"
  },
  "language_info": {
   "codemirror_mode": {
    "name": "ipython",
    "version": 3
   },
   "file_extension": ".py",
   "mimetype": "text/x-python",
   "name": "python",
   "nbconvert_exporter": "python",
   "pygments_lexer": "ipython3",
   "version": "3.9.13"
  }
 },
 "nbformat": 4,
 "nbformat_minor": 5
}
